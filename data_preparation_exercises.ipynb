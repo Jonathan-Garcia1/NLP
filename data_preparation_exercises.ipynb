{
 "cells": [
  {
   "cell_type": "code",
   "execution_count": 1,
   "metadata": {},
   "outputs": [
    {
     "name": "stderr",
     "output_type": "stream",
     "text": [
      "[nltk_data] Downloading package wordnet to\n",
      "[nltk_data]     /Users/jongarcia/nltk_data...\n",
      "[nltk_data]   Package wordnet is already up-to-date!\n"
     ]
    }
   ],
   "source": [
    "import pandas as pd\n",
    "import json\n",
    "import prepare as prep"
   ]
  },
  {
   "cell_type": "markdown",
   "metadata": {},
   "source": [
    "### 1- Define a function named basic_clean. It should take in a string and apply some basic text cleaning to it:\n",
    "\n",
    "- Lowercase everything\n",
    "- Normalize unicode characters\n",
    "- Replace anything that is not a letter, number, whitespace or a single quote."
   ]
  },
  {
   "cell_type": "code",
   "execution_count": null,
   "metadata": {},
   "outputs": [],
   "source": [
    "def basic_clean(data):\n",
    "    # Convert the text to lowercase\n",
    "    data = data.lower()\n",
    "    \n",
    "    # Normalize the text by removing any diacritical marks\n",
    "    data = unicodedata.normalize('NFKD', data)\\\n",
    "        .encode('ascii', 'ignore')\\\n",
    "        .decode('utf-8', 'ignore')\n",
    "    \n",
    "    # Remove any characters that are not lowercase letters, numbers, apostrophes, or whitespaces\n",
    "    data = re.sub(r\"[^a-z0-9'\\s]\", \"\", data)\n",
    "    \n",
    "    # Return the cleaned data\n",
    "    return data\n",
    "\n"
   ]
  },
  {
   "cell_type": "markdown",
   "metadata": {},
   "source": [
    "### 2- Define a function named tokenize. It should take in a string and tokenize all the words in the string.\n"
   ]
  },
  {
   "cell_type": "code",
   "execution_count": null,
   "metadata": {},
   "outputs": [],
   "source": [
    "def tokenize(data):\n",
    "    # Initialize a tokenizer object\n",
    "    tokenizer = ToktokTokenizer()\n",
    "\n",
    "    # Tokenize the input data using the tokenizer object\n",
    "    data = tokenizer.tokenize(data, return_str=True)\n",
    "\n",
    "    # Return the processed data\n",
    "    return data\n",
    "\n"
   ]
  },
  {
   "cell_type": "markdown",
   "metadata": {},
   "source": [
    "### 3-Define a function named stem. It should accept some text and return the text after applying stemming to all the words.\n"
   ]
  },
  {
   "cell_type": "code",
   "execution_count": null,
   "metadata": {},
   "outputs": [],
   "source": [
    "def stem(data):\n",
    "    # Create an instance of the PorterStemmer class from the nltk library\n",
    "    ps = nltk.porter.PorterStemmer()\n",
    "    # Create a list of words form data\n",
    "    words = data.split()\n",
    "    # Apply stemming to each word in the input data\n",
    "    stems = [ps.stem(word) for word in words]\n",
    "\n",
    "    # Join the stemmed words into a single string with spaces in between\n",
    "    stemmed_data = ' '.join(stems)\n",
    "\n",
    "    # Return the stemmed data\n",
    "    return stemmed_data\n",
    "\n"
   ]
  },
  {
   "cell_type": "markdown",
   "metadata": {},
   "source": [
    "### 4- Define a function named lemmatize. It should accept some text and return the text after applying lemmatization to each word."
   ]
  },
  {
   "cell_type": "code",
   "execution_count": null,
   "metadata": {},
   "outputs": [],
   "source": [
    "def lemmatize(data):\n",
    "    # Create an instance of WordNetLemmatizer\n",
    "    wnl = nltk.stem.WordNetLemmatizer()\n",
    "    \n",
    "    # Create a list of words form data\n",
    "    words = data.split()\n",
    "    \n",
    "    # Lemmatize each word in the input data\n",
    "    lemmas = [wnl.lemmatize(word) for word in words]\n",
    "\n",
    "    # Join the lemmatized words into a single string\n",
    "    lemmatized_data = ' '.join(lemmas)\n",
    "\n",
    "    # Return the lemmatized data\n",
    "    return lemmatized_data\n",
    "\n"
   ]
  },
  {
   "cell_type": "code",
   "execution_count": null,
   "metadata": {},
   "outputs": [],
   "source": [
    "# Function to apply cleaning and processing functions from prepare.py\n",
    "def process_dataframe(df):\n",
    "    # Create a new column 'original' and assign the values from 'content'\n",
    "    df['original'] = df['content']\n",
    "    \n",
    "    # Apply the basic_clean function to 'original', then tokenize the result, and remove stopwords\n",
    "    df['clean'] = df['original'].apply(basic_clean).apply(tokenize).apply(remove_stopwords)\n",
    "    \n",
    "    # Apply the stem function to 'clean' column\n",
    "    df['stemmed'] = df['clean'].apply(stem)\n",
    "    \n",
    "    # Apply the lemmatize function to 'clean' column\n",
    "    df['lemmatized'] = df['clean'].apply(lemmatize)\n",
    "    \n",
    "    # Drop the 'content' column from the dataframe\n",
    "    df = df.drop(columns='content', axis=1)\n",
    "    \n",
    "    # Return the modified dataframe\n",
    "    return df\n",
    "\n",
    "\n"
   ]
  },
  {
   "cell_type": "markdown",
   "metadata": {},
   "source": [
    "### 5- Define a function named remove_stopwords. It should accept some text and return the text after removing all the stopwords.\n",
    "\n",
    "- This function should define two optional parameters, extra_words and exclude_words. These parameters should define any additional stop words to include, and any words that we don't want to remove."
   ]
  },
  {
   "cell_type": "code",
   "execution_count": null,
   "metadata": {},
   "outputs": [],
   "source": [
    "def remove_stopwords(data, extra_words, exclude_words):\n",
    "    # Create a list of stopwords in English\n",
    "    stopwords_list = stopwords.words('english')\n",
    "\n",
    "    # Extend the stopwords_list with the elements from the extra_words list\n",
    "    stopwords_list.extend(extra_words)\n",
    "\n",
    "    # Iterate over each word in the exclude_words list\n",
    "    for word in exclude_words:\n",
    "        # Check if the word exists in the stopwords_list\n",
    "        if word in stopwords_list:\n",
    "            # Remove the word from the stopwords_list\n",
    "            stopwords_list.remove(word)\n",
    "\n",
    "    # Split the data into individual words and filter out stopwords\n",
    "    words = [word for word in data.split() if word not in stopwords_list]\n",
    "    \n",
    "    # Join the filtered words back into a string\n",
    "    data = ' '.join(words)\n",
    "    \n",
    "    # Return the processed data\n",
    "    return data"
   ]
  },
  {
   "cell_type": "markdown",
   "metadata": {},
   "source": [
    "### 6. Use your data from the acquire to produce a dataframe of the news articles. Name the dataframe news_df."
   ]
  },
  {
   "cell_type": "code",
   "execution_count": 2,
   "metadata": {},
   "outputs": [
    {
     "data": {
      "text/html": [
       "<div>\n",
       "<style scoped>\n",
       "    .dataframe tbody tr th:only-of-type {\n",
       "        vertical-align: middle;\n",
       "    }\n",
       "\n",
       "    .dataframe tbody tr th {\n",
       "        vertical-align: top;\n",
       "    }\n",
       "\n",
       "    .dataframe thead th {\n",
       "        text-align: right;\n",
       "    }\n",
       "</style>\n",
       "<table border=\"1\" class=\"dataframe\">\n",
       "  <thead>\n",
       "    <tr style=\"text-align: right;\">\n",
       "      <th></th>\n",
       "      <th>title</th>\n",
       "      <th>content</th>\n",
       "    </tr>\n",
       "  </thead>\n",
       "  <tbody>\n",
       "    <tr>\n",
       "      <th>0</th>\n",
       "      <td>Govt probing accounts of Adani Group-run Mumba...</td>\n",
       "      <td>The Ministry of Corporate Affairs has opened a...</td>\n",
       "    </tr>\n",
       "    <tr>\n",
       "      <th>1</th>\n",
       "      <td>IndiGo Co-founder Gangwal to buy SpiceJet stak...</td>\n",
       "      <td>IndiGo Co-founder Rakesh Gangwal is at advance...</td>\n",
       "    </tr>\n",
       "    <tr>\n",
       "      <th>2</th>\n",
       "      <td>Who is KP Ramasamy, a farmer's son who entered...</td>\n",
       "      <td>KP Ramasamy has made his debut on Forbes India...</td>\n",
       "    </tr>\n",
       "    <tr>\n",
       "      <th>3</th>\n",
       "      <td>Zomato, McDonald's fined ₹1 lakh for deliverin...</td>\n",
       "      <td>Food delivery platform Zomato and fast food ch...</td>\n",
       "    </tr>\n",
       "    <tr>\n",
       "      <th>4</th>\n",
       "      <td>India scraps plan to impose restrictions on la...</td>\n",
       "      <td>The Indian government has reversed its decisio...</td>\n",
       "    </tr>\n",
       "  </tbody>\n",
       "</table>\n",
       "</div>"
      ],
      "text/plain": [
       "                                               title  \\\n",
       "0  Govt probing accounts of Adani Group-run Mumba...   \n",
       "1  IndiGo Co-founder Gangwal to buy SpiceJet stak...   \n",
       "2  Who is KP Ramasamy, a farmer's son who entered...   \n",
       "3  Zomato, McDonald's fined ₹1 lakh for deliverin...   \n",
       "4  India scraps plan to impose restrictions on la...   \n",
       "\n",
       "                                             content  \n",
       "0  The Ministry of Corporate Affairs has opened a...  \n",
       "1  IndiGo Co-founder Rakesh Gangwal is at advance...  \n",
       "2  KP Ramasamy has made his debut on Forbes India...  \n",
       "3  Food delivery platform Zomato and fast food ch...  \n",
       "4  The Indian government has reversed its decisio...  "
      ]
     },
     "execution_count": 2,
     "metadata": {},
     "output_type": "execute_result"
    }
   ],
   "source": [
    "# Open and read the JSON file\n",
    "with open('inshorts_articles.json', \"r\") as json_file:\n",
    "    news_articles = json.load(json_file)\n",
    "\n",
    "# Create a DataFrame from the JSON data\n",
    "news_df = pd.DataFrame(news_articles)\n",
    "\n",
    "# Check the DataFrame\n",
    "news_df.head()"
   ]
  },
  {
   "cell_type": "markdown",
   "metadata": {},
   "source": [
    "### 7. Make another dataframe for the Codeup blog posts. Name the dataframe codeup_df."
   ]
  },
  {
   "cell_type": "code",
   "execution_count": 3,
   "metadata": {},
   "outputs": [
    {
     "data": {
      "text/html": [
       "<div>\n",
       "<style scoped>\n",
       "    .dataframe tbody tr th:only-of-type {\n",
       "        vertical-align: middle;\n",
       "    }\n",
       "\n",
       "    .dataframe tbody tr th {\n",
       "        vertical-align: top;\n",
       "    }\n",
       "\n",
       "    .dataframe thead th {\n",
       "        text-align: right;\n",
       "    }\n",
       "</style>\n",
       "<table border=\"1\" class=\"dataframe\">\n",
       "  <thead>\n",
       "    <tr style=\"text-align: right;\">\n",
       "      <th></th>\n",
       "      <th>title</th>\n",
       "      <th>content</th>\n",
       "    </tr>\n",
       "  </thead>\n",
       "  <tbody>\n",
       "    <tr>\n",
       "      <th>0</th>\n",
       "      <td>Spotlight on APIDA Voices: Celebrating Heritag...</td>\n",
       "      <td>May is traditionally known as Asian American a...</td>\n",
       "    </tr>\n",
       "    <tr>\n",
       "      <th>1</th>\n",
       "      <td>Women in tech: Panelist Spotlight – Magdalena ...</td>\n",
       "      <td>Codeup is hosting a Women in Tech Panel in hon...</td>\n",
       "    </tr>\n",
       "    <tr>\n",
       "      <th>2</th>\n",
       "      <td>Women in tech: Panelist Spotlight – Rachel Rob...</td>\n",
       "      <td>Codeup is hosting a Women in Tech Panel in hon...</td>\n",
       "    </tr>\n",
       "    <tr>\n",
       "      <th>3</th>\n",
       "      <td>Women in Tech: Panelist Spotlight – Sarah Mellor</td>\n",
       "      <td>Codeup is hosting a Women in Tech Panel in hon...</td>\n",
       "    </tr>\n",
       "    <tr>\n",
       "      <th>4</th>\n",
       "      <td>Women in Tech: Panelist Spotlight – Madeleine ...</td>\n",
       "      <td>Codeup is hosting a Women in Tech Panel in hon...</td>\n",
       "    </tr>\n",
       "  </tbody>\n",
       "</table>\n",
       "</div>"
      ],
      "text/plain": [
       "                                               title  \\\n",
       "0  Spotlight on APIDA Voices: Celebrating Heritag...   \n",
       "1  Women in tech: Panelist Spotlight – Magdalena ...   \n",
       "2  Women in tech: Panelist Spotlight – Rachel Rob...   \n",
       "3   Women in Tech: Panelist Spotlight – Sarah Mellor   \n",
       "4  Women in Tech: Panelist Spotlight – Madeleine ...   \n",
       "\n",
       "                                             content  \n",
       "0  May is traditionally known as Asian American a...  \n",
       "1  Codeup is hosting a Women in Tech Panel in hon...  \n",
       "2  Codeup is hosting a Women in Tech Panel in hon...  \n",
       "3  Codeup is hosting a Women in Tech Panel in hon...  \n",
       "4  Codeup is hosting a Women in Tech Panel in hon...  "
      ]
     },
     "execution_count": 3,
     "metadata": {},
     "output_type": "execute_result"
    }
   ],
   "source": [
    "# Open and read the JSON file\n",
    "with open('codeup_blog_articles.json', \"r\") as json_file:\n",
    "    blog_articles = json.load(json_file)\n",
    "\n",
    "# Create a DataFrame from the JSON data\n",
    "codeup_df = pd.DataFrame(blog_articles)\n",
    "\n",
    "# Check the DataFrame\n",
    "codeup_df.head()"
   ]
  },
  {
   "cell_type": "code",
   "execution_count": 6,
   "metadata": {},
   "outputs": [
    {
     "data": {
      "text/plain": [
       "270"
      ]
     },
     "execution_count": 6,
     "metadata": {},
     "output_type": "execute_result"
    }
   ],
   "source": [
    "len(codeup_df)"
   ]
  },
  {
   "cell_type": "code",
   "execution_count": 8,
   "metadata": {},
   "outputs": [
    {
     "data": {
      "text/html": [
       "<div>\n",
       "<style scoped>\n",
       "    .dataframe tbody tr th:only-of-type {\n",
       "        vertical-align: middle;\n",
       "    }\n",
       "\n",
       "    .dataframe tbody tr th {\n",
       "        vertical-align: top;\n",
       "    }\n",
       "\n",
       "    .dataframe thead th {\n",
       "        text-align: right;\n",
       "    }\n",
       "</style>\n",
       "<table border=\"1\" class=\"dataframe\">\n",
       "  <thead>\n",
       "    <tr style=\"text-align: right;\">\n",
       "      <th></th>\n",
       "      <th>title</th>\n",
       "      <th>content</th>\n",
       "      <th>original</th>\n",
       "      <th>clean</th>\n",
       "      <th>stemmed</th>\n",
       "      <th>lemmatized</th>\n",
       "    </tr>\n",
       "  </thead>\n",
       "  <tbody>\n",
       "  </tbody>\n",
       "</table>\n",
       "</div>"
      ],
      "text/plain": [
       "Empty DataFrame\n",
       "Columns: [title, content, original, clean, stemmed, lemmatized]\n",
       "Index: []"
      ]
     },
     "execution_count": 8,
     "metadata": {},
     "output_type": "execute_result"
    }
   ],
   "source": [
    "a[codeup_df['content'].isna()]"
   ]
  },
  {
   "cell_type": "code",
   "execution_count": 11,
   "metadata": {},
   "outputs": [
    {
     "data": {
      "text/plain": [
       "title         Why Should I Become a System Administrator?\n",
       "content                                                  \n",
       "original                                                 \n",
       "clean                                                    \n",
       "stemmed                                                  \n",
       "lemmatized                                               \n",
       "Name: 66, dtype: object"
      ]
     },
     "execution_count": 11,
     "metadata": {},
     "output_type": "execute_result"
    }
   ],
   "source": [
    "codeup_df.iloc[66]"
   ]
  },
  {
   "cell_type": "code",
   "execution_count": 15,
   "metadata": {},
   "outputs": [
    {
     "data": {
      "text/plain": [
       "str"
      ]
     },
     "execution_count": 15,
     "metadata": {},
     "output_type": "execute_result"
    }
   ],
   "source": [
    "type(codeup_df.content.iloc[66])"
   ]
  },
  {
   "cell_type": "code",
   "execution_count": 17,
   "metadata": {},
   "outputs": [
    {
     "data": {
      "text/plain": [
       "''"
      ]
     },
     "execution_count": 17,
     "metadata": {},
     "output_type": "execute_result"
    }
   ],
   "source": [
    "codeup_df.content.iloc[66]"
   ]
  },
  {
   "cell_type": "code",
   "execution_count": 9,
   "metadata": {},
   "outputs": [
    {
     "data": {
      "text/plain": [
       "title         0\n",
       "content       0\n",
       "original      0\n",
       "clean         0\n",
       "stemmed       0\n",
       "lemmatized    0\n",
       "dtype: int64"
      ]
     },
     "execution_count": 9,
     "metadata": {},
     "output_type": "execute_result"
    }
   ],
   "source": [
    "codeup_df.isna().sum()"
   ]
  },
  {
   "cell_type": "markdown",
   "metadata": {},
   "source": [
    "### 8. For each dataframe, produce the following columns:\n",
    "\n",
    "\n",
    "- title to hold the title\n",
    "- original to hold the original article/post content\n",
    "- clean to hold the normalized and tokenized original with the stopwords removed.\n",
    "- stemmed to hold the stemmed version of the cleaned data.\n",
    "- lemmatized to hold the lemmatized version of the cleaned data.\n"
   ]
  },
  {
   "cell_type": "code",
   "execution_count": 4,
   "metadata": {},
   "outputs": [
    {
     "data": {
      "text/html": [
       "<div>\n",
       "<style scoped>\n",
       "    .dataframe tbody tr th:only-of-type {\n",
       "        vertical-align: middle;\n",
       "    }\n",
       "\n",
       "    .dataframe tbody tr th {\n",
       "        vertical-align: top;\n",
       "    }\n",
       "\n",
       "    .dataframe thead th {\n",
       "        text-align: right;\n",
       "    }\n",
       "</style>\n",
       "<table border=\"1\" class=\"dataframe\">\n",
       "  <thead>\n",
       "    <tr style=\"text-align: right;\">\n",
       "      <th></th>\n",
       "      <th>title</th>\n",
       "      <th>original</th>\n",
       "      <th>clean</th>\n",
       "      <th>stemmed</th>\n",
       "      <th>lemmatized</th>\n",
       "    </tr>\n",
       "  </thead>\n",
       "  <tbody>\n",
       "    <tr>\n",
       "      <th>0</th>\n",
       "      <td>Govt probing accounts of Adani Group-run Mumba...</td>\n",
       "      <td>The Ministry of Corporate Affairs has opened a...</td>\n",
       "      <td>ministry corporate affairs opened investigatio...</td>\n",
       "      <td>ministri corpor affair open investig account a...</td>\n",
       "      <td>ministry corporate affair opened investigation...</td>\n",
       "    </tr>\n",
       "    <tr>\n",
       "      <th>1</th>\n",
       "      <td>IndiGo Co-founder Gangwal to buy SpiceJet stak...</td>\n",
       "      <td>IndiGo Co-founder Rakesh Gangwal is at advance...</td>\n",
       "      <td>indigo cofounder rakesh gangwal advanced stage...</td>\n",
       "      <td>indigo cofound rakesh gangwal advanc stage tal...</td>\n",
       "      <td>indigo cofounder rakesh gangwal advanced stage...</td>\n",
       "    </tr>\n",
       "    <tr>\n",
       "      <th>2</th>\n",
       "      <td>Who is KP Ramasamy, a farmer's son who entered...</td>\n",
       "      <td>KP Ramasamy has made his debut on Forbes India...</td>\n",
       "      <td>kp ramasamy made debut forbes india ' 100 rich...</td>\n",
       "      <td>kp ramasami made debut forb india ' 100 riches...</td>\n",
       "      <td>kp ramasamy made debut forbes india ' 100 rich...</td>\n",
       "    </tr>\n",
       "    <tr>\n",
       "      <th>3</th>\n",
       "      <td>Zomato, McDonald's fined ₹1 lakh for deliverin...</td>\n",
       "      <td>Food delivery platform Zomato and fast food ch...</td>\n",
       "      <td>food delivery platform zomato fast food chain ...</td>\n",
       "      <td>food deliveri platform zomato fast food chain ...</td>\n",
       "      <td>food delivery platform zomato fast food chain ...</td>\n",
       "    </tr>\n",
       "    <tr>\n",
       "      <th>4</th>\n",
       "      <td>India scraps plan to impose restrictions on la...</td>\n",
       "      <td>The Indian government has reversed its decisio...</td>\n",
       "      <td>indian government reversed decision imposing r...</td>\n",
       "      <td>indian govern revers decis impos restrict lapt...</td>\n",
       "      <td>indian government reversed decision imposing r...</td>\n",
       "    </tr>\n",
       "  </tbody>\n",
       "</table>\n",
       "</div>"
      ],
      "text/plain": [
       "                                               title  \\\n",
       "0  Govt probing accounts of Adani Group-run Mumba...   \n",
       "1  IndiGo Co-founder Gangwal to buy SpiceJet stak...   \n",
       "2  Who is KP Ramasamy, a farmer's son who entered...   \n",
       "3  Zomato, McDonald's fined ₹1 lakh for deliverin...   \n",
       "4  India scraps plan to impose restrictions on la...   \n",
       "\n",
       "                                            original  \\\n",
       "0  The Ministry of Corporate Affairs has opened a...   \n",
       "1  IndiGo Co-founder Rakesh Gangwal is at advance...   \n",
       "2  KP Ramasamy has made his debut on Forbes India...   \n",
       "3  Food delivery platform Zomato and fast food ch...   \n",
       "4  The Indian government has reversed its decisio...   \n",
       "\n",
       "                                               clean  \\\n",
       "0  ministry corporate affairs opened investigatio...   \n",
       "1  indigo cofounder rakesh gangwal advanced stage...   \n",
       "2  kp ramasamy made debut forbes india ' 100 rich...   \n",
       "3  food delivery platform zomato fast food chain ...   \n",
       "4  indian government reversed decision imposing r...   \n",
       "\n",
       "                                             stemmed  \\\n",
       "0  ministri corpor affair open investig account a...   \n",
       "1  indigo cofound rakesh gangwal advanc stage tal...   \n",
       "2  kp ramasami made debut forb india ' 100 riches...   \n",
       "3  food deliveri platform zomato fast food chain ...   \n",
       "4  indian govern revers decis impos restrict lapt...   \n",
       "\n",
       "                                          lemmatized  \n",
       "0  ministry corporate affair opened investigation...  \n",
       "1  indigo cofounder rakesh gangwal advanced stage...  \n",
       "2  kp ramasamy made debut forbes india ' 100 rich...  \n",
       "3  food delivery platform zomato fast food chain ...  \n",
       "4  indian government reversed decision imposing r...  "
      ]
     },
     "execution_count": 4,
     "metadata": {},
     "output_type": "execute_result"
    }
   ],
   "source": [
    "# Processing the news_df dataframe\n",
    "news_df_processed = prep.process_dataframe(news_df)\n",
    "\n",
    "# Displaying the first few rows of the processed dataframe to verify the changes\n",
    "news_df_processed.head()"
   ]
  },
  {
   "cell_type": "code",
   "execution_count": 5,
   "metadata": {},
   "outputs": [
    {
     "data": {
      "text/html": [
       "<div>\n",
       "<style scoped>\n",
       "    .dataframe tbody tr th:only-of-type {\n",
       "        vertical-align: middle;\n",
       "    }\n",
       "\n",
       "    .dataframe tbody tr th {\n",
       "        vertical-align: top;\n",
       "    }\n",
       "\n",
       "    .dataframe thead th {\n",
       "        text-align: right;\n",
       "    }\n",
       "</style>\n",
       "<table border=\"1\" class=\"dataframe\">\n",
       "  <thead>\n",
       "    <tr style=\"text-align: right;\">\n",
       "      <th></th>\n",
       "      <th>title</th>\n",
       "      <th>original</th>\n",
       "      <th>clean</th>\n",
       "      <th>stemmed</th>\n",
       "      <th>lemmatized</th>\n",
       "    </tr>\n",
       "  </thead>\n",
       "  <tbody>\n",
       "    <tr>\n",
       "      <th>0</th>\n",
       "      <td>Spotlight on APIDA Voices: Celebrating Heritag...</td>\n",
       "      <td>May is traditionally known as Asian American a...</td>\n",
       "      <td>may traditionally known asian american pacific...</td>\n",
       "      <td>may tradit known asian american pacif island a...</td>\n",
       "      <td>may traditionally known asian american pacific...</td>\n",
       "    </tr>\n",
       "    <tr>\n",
       "      <th>1</th>\n",
       "      <td>Women in tech: Panelist Spotlight – Magdalena ...</td>\n",
       "      <td>Codeup is hosting a Women in Tech Panel in hon...</td>\n",
       "      <td>codeup hosting women tech panel honor womens h...</td>\n",
       "      <td>codeup host women tech panel honor women histo...</td>\n",
       "      <td>codeup hosting woman tech panel honor woman hi...</td>\n",
       "    </tr>\n",
       "    <tr>\n",
       "      <th>2</th>\n",
       "      <td>Women in tech: Panelist Spotlight – Rachel Rob...</td>\n",
       "      <td>Codeup is hosting a Women in Tech Panel in hon...</td>\n",
       "      <td>codeup hosting women tech panel honor womens h...</td>\n",
       "      <td>codeup host women tech panel honor women histo...</td>\n",
       "      <td>codeup hosting woman tech panel honor woman hi...</td>\n",
       "    </tr>\n",
       "    <tr>\n",
       "      <th>3</th>\n",
       "      <td>Women in Tech: Panelist Spotlight – Sarah Mellor</td>\n",
       "      <td>Codeup is hosting a Women in Tech Panel in hon...</td>\n",
       "      <td>codeup hosting women tech panel honor womens h...</td>\n",
       "      <td>codeup host women tech panel honor women histo...</td>\n",
       "      <td>codeup hosting woman tech panel honor woman hi...</td>\n",
       "    </tr>\n",
       "    <tr>\n",
       "      <th>4</th>\n",
       "      <td>Women in Tech: Panelist Spotlight – Madeleine ...</td>\n",
       "      <td>Codeup is hosting a Women in Tech Panel in hon...</td>\n",
       "      <td>codeup hosting women tech panel honor womens h...</td>\n",
       "      <td>codeup host women tech panel honor women histo...</td>\n",
       "      <td>codeup hosting woman tech panel honor woman hi...</td>\n",
       "    </tr>\n",
       "  </tbody>\n",
       "</table>\n",
       "</div>"
      ],
      "text/plain": [
       "                                               title  \\\n",
       "0  Spotlight on APIDA Voices: Celebrating Heritag...   \n",
       "1  Women in tech: Panelist Spotlight – Magdalena ...   \n",
       "2  Women in tech: Panelist Spotlight – Rachel Rob...   \n",
       "3   Women in Tech: Panelist Spotlight – Sarah Mellor   \n",
       "4  Women in Tech: Panelist Spotlight – Madeleine ...   \n",
       "\n",
       "                                            original  \\\n",
       "0  May is traditionally known as Asian American a...   \n",
       "1  Codeup is hosting a Women in Tech Panel in hon...   \n",
       "2  Codeup is hosting a Women in Tech Panel in hon...   \n",
       "3  Codeup is hosting a Women in Tech Panel in hon...   \n",
       "4  Codeup is hosting a Women in Tech Panel in hon...   \n",
       "\n",
       "                                               clean  \\\n",
       "0  may traditionally known asian american pacific...   \n",
       "1  codeup hosting women tech panel honor womens h...   \n",
       "2  codeup hosting women tech panel honor womens h...   \n",
       "3  codeup hosting women tech panel honor womens h...   \n",
       "4  codeup hosting women tech panel honor womens h...   \n",
       "\n",
       "                                             stemmed  \\\n",
       "0  may tradit known asian american pacif island a...   \n",
       "1  codeup host women tech panel honor women histo...   \n",
       "2  codeup host women tech panel honor women histo...   \n",
       "3  codeup host women tech panel honor women histo...   \n",
       "4  codeup host women tech panel honor women histo...   \n",
       "\n",
       "                                          lemmatized  \n",
       "0  may traditionally known asian american pacific...  \n",
       "1  codeup hosting woman tech panel honor woman hi...  \n",
       "2  codeup hosting woman tech panel honor woman hi...  \n",
       "3  codeup hosting woman tech panel honor woman hi...  \n",
       "4  codeup hosting woman tech panel honor woman hi...  "
      ]
     },
     "execution_count": 5,
     "metadata": {},
     "output_type": "execute_result"
    }
   ],
   "source": [
    "# Processing the news_df dataframe\n",
    "codeup_df_processed = prep.process_dataframe(codeup_df)\n",
    "\n",
    "# Displaying the first few rows of the processed dataframe to verify the changes\n",
    "codeup_df_processed.head()"
   ]
  }
 ],
 "metadata": {
  "kernelspec": {
   "display_name": "base",
   "language": "python",
   "name": "python3"
  },
  "language_info": {
   "codemirror_mode": {
    "name": "ipython",
    "version": 3
   },
   "file_extension": ".py",
   "mimetype": "text/x-python",
   "name": "python",
   "nbconvert_exporter": "python",
   "pygments_lexer": "ipython3",
   "version": "3.10.12"
  },
  "orig_nbformat": 4
 },
 "nbformat": 4,
 "nbformat_minor": 2
}
